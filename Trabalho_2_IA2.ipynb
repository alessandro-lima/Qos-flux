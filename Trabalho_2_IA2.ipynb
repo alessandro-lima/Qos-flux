{
  "nbformat": 4,
  "nbformat_minor": 0,
  "metadata": {
    "colab": {
      "name": "Trabalho 2 IA2.ipynb",
      "provenance": [],
      "collapsed_sections": [],
      "include_colab_link": true
    },
    "kernelspec": {
      "name": "python3",
      "display_name": "Python 3"
    },
    "language_info": {
      "name": "python"
    }
  },
  "cells": [
    {
      "cell_type": "markdown",
      "metadata": {
        "id": "view-in-github",
        "colab_type": "text"
      },
      "source": [
        "<a href=\"https://colab.research.google.com/github/alessandro-lima/Qos-flux/blob/master/Trabalho_2_IA2.ipynb\" target=\"_parent\"><img src=\"https://colab.research.google.com/assets/colab-badge.svg\" alt=\"Open In Colab\"/></a>"
      ]
    },
    {
      "cell_type": "markdown",
      "metadata": {
        "id": "GgH-LTpuKrmu"
      },
      "source": [
        "# Trabalho 2 IA2"
      ]
    },
    {
      "cell_type": "markdown",
      "metadata": {
        "id": "RpxAIeXqKviY"
      },
      "source": [
        "## Criando o Perceptron"
      ]
    },
    {
      "cell_type": "markdown",
      "metadata": {
        "id": "WcU9AmirK1Fs"
      },
      "source": [
        "Na aula prática passada nós construimos um perceptron simples para realizar uma tarefa de classificação. Hoje iremos criar uma classe Perceptron para que possamos utilizá-la na solução de um problema mais complexo.\n",
        "\n",
        "Link da aula: https://colab.research.google.com/drive/1elhlWjfiie2ypTpFuR-GDzMPnCrgmVKi?usp=sharing"
      ]
    },
    {
      "cell_type": "markdown",
      "metadata": {
        "id": "5MJESBvWLb4F"
      },
      "source": [
        "![picture](https://drive.google.com/uc?id=1W8SXGn7Y-9YqTUEBSWtcXhB-9zpjSeG6)\n",
        "\n",
        "Nosso neurônio perceptron irá precisar de um **bias**. Esse **bias** irá servir para expandir as capacidades do nosso componente. \n",
        "\n",
        "Basta imaginar que nosso neurônio é capaz de traçar uma linha separando os dados, porém treinando e manipulando apenas os pesos a equação da linha resultante fica: Y = a*X. Com a introdução do **bias**, e seu consequente treinamento, será possível traçar linhas do tipo Y = a*X + b, o que permitirá a linha \"descolar\" da origem ([0,0] para o exemplo em 2 dimensões)."
      ]
    },
    {
      "cell_type": "code",
      "metadata": {
        "id": "wAQXb8yl1o7b"
      },
      "source": [
        "import numpy as np\n",
        "import matplotlib.pyplot as plt"
      ],
      "execution_count": null,
      "outputs": []
    },
    {
      "cell_type": "code",
      "metadata": {
        "id": "v4JrEO391o1s"
      },
      "source": [
        "class Perceptron(object):\n",
        "  \n",
        "  def __init__(self, alpha=0.1, epochs=10):\n",
        "    np.random.seed(1) # [OBS1]\n",
        "    self.alpha = alpha # alpha é a nossa taxa de aprendizado\n",
        "    self.epochs = epochs\n",
        "    self.weights = None\n",
        "    self.bias = None\n",
        "  \n",
        "  def fit (self, X, Y):\n",
        "    n_samples, n_features = X.shape\n",
        "    # Inicialize os Pesos e Bias: [ATIVIDADE 1]\n",
        "\n",
        "\n",
        "    for epoch in range(self.epochs):\n",
        "      for x_i,y_esperado in zip(X,Y):\n",
        "        # Defina as funções de treinamento: [ATIVIDADE 2]\n",
        "\n",
        "    \n",
        "  def predict(self, X):\n",
        "    # Calcule o output do perceptron: [ATIVIDADE 3]\n",
        "\n",
        "    return output\n",
        "\n",
        "  def activation(self, signal):\n",
        "    return np.where( signal >= 0, 1, 0) # Função degrau de ativação\n"
      ],
      "execution_count": null,
      "outputs": []
    },
    {
      "cell_type": "markdown",
      "metadata": {
        "id": "CQq0JMXaPcSh"
      },
      "source": [
        "OBS1: Inicializando Seed de Random para que seja possível realizar testes com inicialização de pesos aleatória, e também seja possível replicar os testes caso necessário. Para alterar os pesos iniciais basta mudar o inteiro passado na função **np.random.seed()**.\n",
        "### Atividade 1 - Inicialize os Pesos e Bias\n",
        "Na chamada do método fit, inicialize os pesos (self.weights) e bias (self.bias) para valores aleatórios entre -1 e 1. (Se precisar de ajuda consulte a última sessão da aula: **Code Snippets**)\n",
        "\n",
        "### Atividade 2 - Defina as funções de treinamento\n",
        "Para cada input é necessário calcular o output do perceptron (chamando a função self.predict), a partir do output podemos calcular o erro (output_desejado - output), e devemos atualizar os pesos (input * alpha * erro) e bias (alpha * erro).\n",
        "\n",
        "### Atividade 3 - Calcule o output do perceptron\n",
        "Dentro da função predict você deve chamar a função de ativação (**activation**) passando como parâmetro o somatório dos pesos * inputs + bias (lembre-se que pesos e inputs são vetores). E retornar o output do perceptron."
      ]
    },
    {
      "cell_type": "markdown",
      "metadata": {
        "id": "yykRDbhgJsrq"
      },
      "source": [
        "## Validando o perceptron criado\n",
        "Aqui vamos conferir se o perceptron foi criado corretamente solucionando um problema simples de classificação linear utilizando sklearn."
      ]
    },
    {
      "cell_type": "code",
      "metadata": {
        "id": "jdH1pRV4X9vw"
      },
      "source": [
        "def accuracy(y_true, y_pred):\n",
        "    hits = 0\n",
        "    # Crie uma função de acurácia simples: [ATIVIDADE 4]\n",
        "\n",
        "    return result"
      ],
      "execution_count": null,
      "outputs": []
    },
    {
      "cell_type": "markdown",
      "metadata": {
        "id": "FNs7lQilYSr2"
      },
      "source": [
        "### Atividade 4 - Crie uma função simples para calcular acurácia\n",
        "Aqui podemos fazer o mais genérico possível, a função recebe os outputs desejados e as predições e deve iterar um por um, calcular a quantidade de hits (acertos onde y_true == y_pred) e no final dividir esse valor pela quantidade de outputs (tamanho dos vetores de entrada)."
      ]
    },
    {
      "cell_type": "code",
      "metadata": {
        "id": "ZPXjctno1owU"
      },
      "source": [
        "from sklearn.model_selection import train_test_split\n",
        "from sklearn import datasets\n",
        "\n",
        "X, y = datasets.make_blobs(\n",
        "    n_samples=150, n_features=2, centers=2, cluster_std=1.05, random_state=2\n",
        ")\n",
        "X_train, X_test, y_train, y_test = train_test_split(\n",
        "    X, y, test_size=0.2, random_state=123\n",
        ")\n",
        "\n",
        "p = Perceptron(alpha=0.01, epochs=10)\n",
        "p.fit(X_train, y_train)\n",
        "predictions = p.predict(X_test)\n",
        "\n",
        "print(\"Perceptron classification accuracy\", accuracy(y_test, predictions))\n",
        "\n",
        "# Visualizando o problema que foi solucionado\n",
        "\n",
        "fig = plt.figure()\n",
        "ax = fig.add_subplot(1, 1, 1)\n",
        "plt.scatter(X_train[:, 0], X_train[:, 1], marker=\"o\", c=y_train)\n",
        "\n",
        "x0_1 = np.amin(X_train[:, 0])\n",
        "x0_2 = np.amax(X_train[:, 0])\n",
        "\n",
        "x1_1 = (-p.weights[0] * x0_1 - p.bias) / p.weights[1]\n",
        "x1_2 = (-p.weights[0] * x0_2 - p.bias) / p.weights[1]\n",
        "\n",
        "ax.plot([x0_1, x0_2], [x1_1, x1_2], \"k\")\n",
        "\n",
        "ymin = np.amin(X_train[:, 1])\n",
        "ymax = np.amax(X_train[:, 1])\n",
        "ax.set_ylim([ymin - 3, ymax + 3])\n",
        "\n",
        "plt.show()"
      ],
      "execution_count": null,
      "outputs": []
    },
    {
      "cell_type": "markdown",
      "metadata": {
        "id": "5R6rvBVFY5Fk"
      },
      "source": [
        "Se você implementou as atividades de 1 à 4 corretamente o seu perceptron deve ser capaz de classificar o problema acima com acurácia de 1.0 (100%). Parabéns!"
      ]
    },
    {
      "cell_type": "markdown",
      "metadata": {
        "id": "usJsz-nRJxOZ"
      },
      "source": [
        "## OCR: Reconhecimento Óptico de Caracteres\n",
        "Vamos resolver um problema de OCR simples que pode ser caracterizado como um problema de classificação, que recebe a imagem de um caracter como input e retorna a label correspondente."
      ]
    },
    {
      "cell_type": "markdown",
      "metadata": {
        "id": "JXQEjg9R1jJL"
      },
      "source": [
        "## Dataset\n",
        "Faremos uso do dataset MNIST: http://yann.lecun.com/exdb/mnist/\n",
        "\n",
        "![picture](https://drive.google.com/uc?id=1qfouepB0Dd5BmGofIS7Nafa-nE7m9TIs)\n",
        "\n",
        "Esse dataset é composto \"imagens\" de números de 0 à 9, e contém 60.000 exemplos de treinamento e 10.000 exemplos de teste.\n",
        "\n",
        "A palavra \"imagens\" foi posta entre aspas porque os arquivos não estão salvos em .png ou .jpg, eles já estão num arquivo binário descrito no link do dataset que contém as informações pixel a pixel dos exemplos.\n",
        "\n",
        "Como o foco desse trabalho não é a manipulação de arquivos com python, deixei disponível aqui embaixo algumas funções que já tratarão desses dados e disponibilizarão de maneira simples para vocês usarem."
      ]
    },
    {
      "cell_type": "code",
      "metadata": {
        "id": "W7ZJeEWMXMA2",
        "colab": {
          "base_uri": "https://localhost:8080/"
        },
        "outputId": "038745d9-9b1e-4d7c-e1b6-db5f596f3578"
      },
      "source": [
        "# download do dataset (training set images)\n",
        "!curl -O http://yann.lecun.com/exdb/mnist/train-images-idx3-ubyte.gz\n",
        "# download do dataset (training set labels)\n",
        "!curl -O http://yann.lecun.com/exdb/mnist/train-labels-idx1-ubyte.gz\n",
        "# download do dataset (testing set images)\n",
        "!curl -O http://yann.lecun.com/exdb/mnist/t10k-images-idx3-ubyte.gz\n",
        "# download do dataset (testing set labels)\n",
        "!curl -O http://yann.lecun.com/exdb/mnist/t10k-labels-idx1-ubyte.gz"
      ],
      "execution_count": null,
      "outputs": [
        {
          "output_type": "stream",
          "name": "stdout",
          "text": [
            "  % Total    % Received % Xferd  Average Speed   Time    Time     Time  Current\n",
            "                                 Dload  Upload   Total   Spent    Left  Speed\n",
            "100 9680k  100 9680k    0     0  52.8M      0 --:--:-- --:--:-- --:--:-- 52.5M\n",
            "  % Total    % Received % Xferd  Average Speed   Time    Time     Time  Current\n",
            "                                 Dload  Upload   Total   Spent    Left  Speed\n",
            "100 28881  100 28881    0     0  1659k      0 --:--:-- --:--:-- --:--:-- 1659k\n",
            "  % Total    % Received % Xferd  Average Speed   Time    Time     Time  Current\n",
            "                                 Dload  Upload   Total   Spent    Left  Speed\n",
            "100 1610k  100 1610k    0     0  24.1M      0 --:--:-- --:--:-- --:--:-- 24.1M\n",
            "  % Total    % Received % Xferd  Average Speed   Time    Time     Time  Current\n",
            "                                 Dload  Upload   Total   Spent    Left  Speed\n",
            "100  4542  100  4542    0     0   221k      0 --:--:-- --:--:-- --:--:--  233k\n"
          ]
        }
      ]
    },
    {
      "cell_type": "code",
      "metadata": {
        "colab": {
          "base_uri": "https://localhost:8080/"
        },
        "id": "fA4ip2Ii20pU",
        "outputId": "faa163a2-6697-464d-fe38-6a9587c46900"
      },
      "source": [
        "# Extrair arquivos\n",
        "!gunzip *"
      ],
      "execution_count": null,
      "outputs": [
        {
          "output_type": "stream",
          "name": "stdout",
          "text": [
            "gzip: sample_data is a directory -- ignored\n"
          ]
        }
      ]
    },
    {
      "cell_type": "code",
      "metadata": {
        "id": "qXKDfdF9y4Xt"
      },
      "source": [
        "def bytes_to_int(byte_data):\n",
        "    return int.from_bytes(byte_data, 'big')\n",
        "\n",
        "def read_images(filename, n_max_images=None, show = False):\n",
        "    images = []\n",
        "    with open(filename, 'rb') as f:\n",
        "        _ = f.read(4)  # magic number\n",
        "        n_images = bytes_to_int(f.read(4))\n",
        "        if n_max_images:\n",
        "            n_images = n_max_images\n",
        "        n_rows = bytes_to_int(f.read(4))\n",
        "        n_columns = bytes_to_int(f.read(4))\n",
        "        for image_idx in range(n_images):\n",
        "            image = []\n",
        "            for row_idx in range(n_rows):\n",
        "                row = []\n",
        "                for col_idx in range(n_columns):\n",
        "                    if show:\n",
        "                        pixel = f.read(1)\n",
        "                    else:\n",
        "                        pixel = bytes_to_int(f.read(1))\n",
        "                    row.append(pixel)\n",
        "                image.append(row)\n",
        "            images.append(image)\n",
        "    return images\n",
        "\n",
        "def read_labels(filename, n_max_labels=None):\n",
        "    labels = []\n",
        "    with open(filename, 'rb') as f:\n",
        "        _ = f.read(4)  # magic number\n",
        "        n_labels = bytes_to_int(f.read(4))\n",
        "        if n_max_labels:\n",
        "            n_labels = n_max_labels\n",
        "        for label_idx in range(n_labels):\n",
        "            label = bytes_to_int(f.read(1))\n",
        "            labels.append(label)\n",
        "    return labels"
      ],
      "execution_count": null,
      "outputs": []
    },
    {
      "cell_type": "code",
      "metadata": {
        "id": "cbWZnSBGzPPp"
      },
      "source": [
        "def flatten_list(l):\n",
        "    return [pixel for sublist in l for pixel in sublist]\n",
        "    \n",
        "def extract_features(X):\n",
        "    return [flatten_list(sample) for sample in X]"
      ],
      "execution_count": null,
      "outputs": []
    },
    {
      "cell_type": "markdown",
      "metadata": {
        "id": "9DXazdUPboj6"
      },
      "source": [
        "A função `extract_features` seria responsável por extrair features das imagens, porém como estamos carregando todos os dados diretamente nos neurônios, ela só irá chamar a função `flatten_list` para todos os samples.\n",
        "\n",
        "A função `flatten_list` irá transformar o que era uma matriz de dados 28 x 28 em um simples vetor com 784 valores que será carregado como input para nosso perceptron."
      ]
    },
    {
      "cell_type": "markdown",
      "metadata": {
        "id": "eOd7cBkccyYj"
      },
      "source": [
        "## Pré-Processamento"
      ]
    },
    {
      "cell_type": "code",
      "metadata": {
        "colab": {
          "base_uri": "https://localhost:8080/"
        },
        "id": "C2avlFWwzK8L",
        "outputId": "9b8b7b40-ede5-4831-cc30-862470461c2d"
      },
      "source": [
        "TEST_DATA_FILENAME = 't10k-images-idx3-ubyte'\n",
        "TEST_LABELS_FILENAME = 't10k-labels-idx1-ubyte'\n",
        "TRAIN_DATA_FILENAME = 'train-images-idx3-ubyte'\n",
        "TRAIN_LABELS_FILENAME = 'train-labels-idx1-ubyte'\n",
        "\n",
        "n_train = 100 # Numero de imagens carregadas para treinamento\n",
        "n_test = 10 # Numero de imagens carregadas para teste\n",
        "\n",
        "x_train = read_images(TRAIN_DATA_FILENAME, n_train)\n",
        "y_train = np.array(read_labels(TRAIN_LABELS_FILENAME, n_train)).reshape(n_train,1)\n",
        "print(len(x_train[0]))\n",
        "print(len(x_train[0][0]))\n",
        "\n",
        "x_test = read_images(TEST_DATA_FILENAME, n_test)\n",
        "y_test = read_labels(TEST_LABELS_FILENAME, n_test)\n",
        "\n",
        "x_train = np.array(extract_features(x_train))/255 # Transformando em numpy array e normalizando (valores entre 0 e 1)\n",
        "x_test = np.array(extract_features(x_test))/255 # Transformando em numpy array e normalizando (valores entre 0 e 1)\n",
        "print(len(x_train[0]))\n"
      ],
      "execution_count": null,
      "outputs": [
        {
          "output_type": "stream",
          "name": "stdout",
          "text": [
            "28\n",
            "28\n",
            "784\n"
          ]
        }
      ]
    },
    {
      "cell_type": "markdown",
      "metadata": {
        "id": "YuPGEwxLenJW"
      },
      "source": [
        "### Visualização"
      ]
    },
    {
      "cell_type": "code",
      "metadata": {
        "colab": {
          "base_uri": "https://localhost:8080/",
          "height": 591
        },
        "id": "PgdNxvMtftIC",
        "outputId": "3c007efd-d426-47a7-9289-2e72b17da6b4"
      },
      "source": [
        "from PIL import Image\n",
        "\n",
        "sample_images = read_images(TEST_DATA_FILENAME, 16, show=True)\n",
        "sample_labels = read_labels(TEST_LABELS_FILENAME, 16)\n",
        "plt.figure(figsize=(10, 10))\n",
        "for idx, test_sample in enumerate(sample_images):\n",
        "    img = Image.fromarray(np.array(test_sample), 'L')\n",
        "    ax = plt.subplot(4, 4, idx + 1)\n",
        "    plt.imshow(img)\n",
        "    plt.title(int(sample_labels[idx]))\n",
        "    plt.axis(\"off\")   "
      ],
      "execution_count": null,
      "outputs": [
        {
          "output_type": "display_data",
          "data": {
            "image/png": "[encoded data removed]",
            "text/plain": [
              "<Figure size 720x720 with 16 Axes>"
            ]
          },
          "metadata": {
            "needs_background": "light"
          }
        }
      ]
    },
    {
      "cell_type": "markdown",
      "metadata": {
        "id": "dhY7nv6zlbBz"
      },
      "source": [
        "## Modelagem\n",
        "\n",
        "Nossa solução fará uso de 10 perceptrons classificadores, 1 para cada classe (número).\n",
        "\n",
        "Como cada classificador será treinado individualmente, será necessário transformar o vetor de labels para cada neurônio de maneira a garantir que o erro será calculado corretamente.\n",
        "\n",
        "Exemplo para o perceptron classificador de 1s: Label = `[0,1,4,1,5]` -> `[0, 1, 0, 1, 0]`\n",
        "\n",
        "Além disso a saída será individualizada, ou seja, não teremos uma saída final com a previsão da rede, ao invés disso teremos 10 saídas independentes que precisamos unir para avaliar a saída completa. \n",
        "\n",
        "Aqui surgirá um problema de quebrar os empates, ou seja, quando mais de um perceptron ativar para uma mesma entrada. Nesse primeiro momento iremos converter o vetor de labels para que cada label seja equivalente a um vetor de 10 posições de 0s e 1s correspondente ao output desejado da rede completa unida, e verificaremos se o vetor resultante da nossa rede é igual ao desejado.\n",
        "\n",
        "Exemplo: Label = `[5]` -> `[0, 0, 0, 0, 0, 1, 0, 0, 0, 0]`"
      ]
    },
    {
      "cell_type": "markdown",
      "metadata": {
        "id": "xcXnBnbapnzF"
      },
      "source": [
        "### Começando com o perceptron classificador de 1s:"
      ]
    },
    {
      "cell_type": "code",
      "metadata": {
        "colab": {
          "base_uri": "https://localhost:8080/"
        },
        "id": "z6lTFcmhpmGJ",
        "outputId": "5f933b4c-49d3-4ce7-c0ec-4a397e4ca4f3"
      },
      "source": [
        "P = Perceptron(alpha=0.1, epochs=50)\n",
        "\n",
        "# Formatar labels de treinamento: [ATIVIDADE 5]\n",
        "\n",
        "\n",
        "# Treinar Rede: [ATIVIDADE 6]\n",
        "\n",
        "\n",
        "# Gerar vetor de predições: [ATIVIDADE 7]\n",
        "\n",
        "\n",
        "print(y_test)\n",
        "print(predictions)"
      ],
      "execution_count": null,
      "outputs": [
        {
          "output_type": "stream",
          "name": "stdout",
          "text": [
            "[7, 2, 1, 0, 4, 1, 4, 9, 5, 9]\n",
            "[0 0 1 0 0 1 0 0 0 0]\n"
          ]
        }
      ]
    },
    {
      "cell_type": "markdown",
      "metadata": {
        "id": "9_mEW18YsNNP"
      },
      "source": [
        "### Atividade 5: Formatar labels de treinamento\n",
        "Como comentado mais acima precisamos transformar as labels do tipo `[0,1,4,1,5]` -> `[0, 1, 0, 1, 0]` para que seja possível treinar o neurônio classificador de 1s.\n"
      ]
    },
    {
      "cell_type": "markdown",
      "metadata": {
        "id": "fQkXFpnLtxKw"
      },
      "source": [
        "### Atividade 6: Treinar o perceptron\n",
        "Chamar a função fit passando como parâmetros o `x_train` e o `y_formatado`."
      ]
    },
    {
      "cell_type": "markdown",
      "metadata": {
        "id": "ORoS0OH0pmpR"
      },
      "source": [
        "### Atividade 7: Gerar vetor de predições\n",
        "Chamar a função predict passando x_test como parâmetro para obter o vetor de saída do perceptron.\n"
      ]
    },
    {
      "cell_type": "markdown",
      "metadata": {
        "id": "l_X6_YEquGhx"
      },
      "source": [
        "Se tudo for realizado corretamente o print deverá conter um vetor de labels (`y_test`) com 10 numeros, e o print de predições deve apresentar 1 apenas nas posições correspondentes à label `1` no vetor de labels."
      ]
    },
    {
      "cell_type": "markdown",
      "metadata": {
        "id": "PvH26RFPuIXf"
      },
      "source": [
        "### Agora com os 10 classificadores"
      ]
    },
    {
      "cell_type": "code",
      "metadata": {
        "id": "i7NqYzNqo0l0"
      },
      "source": [
        "P_list = []\n",
        "# Inicialize uma lista de 10 perceptrons: [ATIVIDADE 8]\n",
        "\n",
        "\n",
        "# Loop de treinamento: [Atividade 9]\n",
        "\n",
        "\n",
        "predictions = []\n",
        "# Loop de predições: [Atividade 10]\n",
        "\n"
      ],
      "execution_count": null,
      "outputs": []
    },
    {
      "cell_type": "markdown",
      "metadata": {
        "id": "01GA-UZao8MC"
      },
      "source": [
        "### Atividade 8: Inicialize a lista de perceptrons\n",
        "Faça um loop que inicializará uma lista de 10 perceptrons.\n",
        "\n"
      ]
    },
    {
      "cell_type": "markdown",
      "metadata": {
        "id": "pZltL3JAuzhL"
      },
      "source": [
        "### Atividade 9: Loop de treinamento\n",
        "Aqui dentro você precisa formatar o vetor de y_train para cada neurônio a ser treinado, e passar o y_formatado para dentro da função de treinamento de cada neurônio."
      ]
    },
    {
      "cell_type": "markdown",
      "metadata": {
        "id": "rjcUpEkjQwvR"
      },
      "source": [
        "### Atividade 10: Loop de predições\n",
        "Aqui precisamos passar por todo o vetor de perceptrons e calcular suas predições para o input `x_test`."
      ]
    },
    {
      "cell_type": "markdown",
      "metadata": {
        "id": "LRL2koVfwa32"
      },
      "source": [
        "### Formatando tudo para calcular acuracia"
      ]
    },
    {
      "cell_type": "markdown",
      "metadata": {
        "id": "nFEtDZinwnZM"
      },
      "source": [
        "A variável predictions contém o resultado da predição dos nossos 10 perceptrons, e para cada um deles existe um vetor de n_test predições. \n",
        "\n",
        "Para que possamos calcular a acurácia precisamos agrupar a primeira predição de cada perceptron, a segunda de cada perceptron, e assim por diante.\n",
        "\n",
        "Além disso precisamos converter o nosso vetor de labels para comparar com as predições. Lembrando que aqui teremos o problema de quebrar empates, e com essa solução iremos considerar que um empate, ou seja, quando dois ou mais perceptrons ativarem para o mesmo input, é um erro.\n"
      ]
    },
    {
      "cell_type": "code",
      "metadata": {
        "colab": {
          "base_uri": "https://localhost:8080/"
        },
        "id": "uTj9jJ_iwO6b",
        "outputId": "6472b56a-1223-4bb7-a045-cc092a8d63cb"
      },
      "source": [
        "# Reformatando o vetor de predições\n",
        "grouped_predictions = []\n",
        "for i in range(n_test):\n",
        "  singlePrediction = []\n",
        "  for j, prediction in enumerate(predictions):\n",
        "    singlePrediction.append(prediction[i])\n",
        "  grouped_predictions.append(singlePrediction)\n",
        "\n",
        "# Reformatando o vetor de labels\n",
        "def convert_number_to_array_prediction(n):\n",
        "  array_prediction = np.zeros(10)\n",
        "  array_prediction[n] = 1\n",
        "  return array_prediction\n",
        "\n",
        "def convert_y_test_to_array_prediction(ytest):\n",
        "  convertedList = []\n",
        "  for i in ytest:\n",
        "    convertedList.append(convert_number_to_array_prediction(i))\n",
        "  return np.array(convertedList)\n",
        "\n",
        "# Salvando novo vetor de y_test\n",
        "y_test_as_array = convert_y_test_to_array_prediction(y_test)\n",
        "\n",
        "# Definindo nova função de acuracia [OBS2]\n",
        "hits = 0\n",
        "for i, prediction in enumerate(grouped_predictions):\n",
        "  # print(prediction)\n",
        "  # print(convertedArray[i])\n",
        "  if (prediction == y_test_as_array[i]).all():\n",
        "    hits+=1\n",
        "\n",
        "# print('gp', grouped_predictions)\n",
        "# print('y', y_test_as_array)\n",
        "print('Acuracia: ',hits/n_test)"
      ],
      "execution_count": null,
      "outputs": [
        {
          "output_type": "stream",
          "name": "stdout",
          "text": [
            "Acuracia:  0.7\n"
          ]
        }
      ]
    },
    {
      "cell_type": "markdown",
      "metadata": {
        "id": "irSiPvAxzzh4"
      },
      "source": [
        "OBS2: Precisamos definir nova função para calcular acurácia porque estamos comparando vetores inteiros. (verificar `.all()` e `.any()` na documentação do numpy)"
      ]
    },
    {
      "cell_type": "markdown",
      "metadata": {
        "id": "eKTojD2K2brX"
      },
      "source": [
        "### Atividade 11: Melhorar a Acuracia\n",
        "Altere o valor de n_test para 100, e modifique os valores de n_train, n_epocas, alpha, etc. Consiga uma acuracia mínima de 70%."
      ]
    },
    {
      "cell_type": "markdown",
      "metadata": {
        "id": "yaQt2hof2t1a"
      },
      "source": [
        "# Sigmoid como função de ativação"
      ]
    },
    {
      "cell_type": "markdown",
      "metadata": {
        "id": "xIYIiljE-SwA"
      },
      "source": [
        "A função de ativação sigmoid é muito utilizada em machine learning. Ela resulta em um output entre 0 e 1, portanto nos permite prever a probabilidade de um output.\n",
        "\n",
        "\n",
        "Para o nosso problema específico essa função tem um benefício a mais que é o de permitir a quebra de empates com a existencia de valores intermediários entre 0 e 1.\n",
        "\n",
        "Para implementar o sigmoid o treinamento muda um pouco. No nosso caso não utilizaremos mais o alpha e sim um componente derivativo que assumirá o papel do alpha no treinamento da rede. (Podemos continuar utilizando alpha, mas não é tão necessário quanto no caso da função degrau)"
      ]
    },
    {
      "cell_type": "code",
      "metadata": {
        "colab": {
          "base_uri": "https://localhost:8080/",
          "height": 282
        },
        "id": "gqIUpI80fNOC",
        "outputId": "b334d097-7bbb-4176-88f1-285f0aabe9d0"
      },
      "source": [
        "x = np.arange(-10., 10., 0.2)\n",
        "sig = 1 / (1 + np.exp(-x))\n",
        "plt.plot(x, sig, 'b', label='Função Sigmoid')"
      ],
      "execution_count": null,
      "outputs": [
        {
          "output_type": "execute_result",
          "data": {
            "text/plain": [
              "[<matplotlib.lines.Line2D at 0x7f32f72bd4d0>]"
            ]
          },
          "metadata": {},
          "execution_count": 6
        },
        {
          "output_type": "display_data",
          "data": {
            "image/png": "[encoded data removed]",
            "text/plain": [
              "<Figure size 432x288 with 1 Axes>"
            ]
          },
          "metadata": {
            "needs_background": "light"
          }
        }
      ]
    },
    {
      "cell_type": "markdown",
      "metadata": {
        "id": "m4ud-Hm05nAa"
      },
      "source": [
        "## Começaremos reescrevendo o nosso perceptron"
      ]
    },
    {
      "cell_type": "markdown",
      "metadata": {
        "id": "6qkziCVC5x4Q"
      },
      "source": [
        ""
      ]
    },
    {
      "cell_type": "code",
      "metadata": {
        "id": "vxi5XHy45zLx"
      },
      "source": [
        "class Perceptron(object):\n",
        "  \n",
        "  def __init__(self, epochs=10):\n",
        "    np.random.seed(1)\n",
        "    self.epochs = epochs\n",
        "    self.weights = None\n",
        "    self.bias = None\n",
        "  \n",
        "  def sigmoid_derivative(self, x):\n",
        "    #computing derivative to the Sigmoid function\n",
        "    return x * (1 - x)\n",
        "  \n",
        "  def fit (self, X, Y):\n",
        "    n_samples, n_features = X.shape\n",
        "    # Inicialize os Pesos e Bias: [ATIVIDADE 12]\n",
        "\n",
        "\n",
        "    for epoch in range(self.epochs):\n",
        "      for x_i, y_esperado in zip(X,Y):\n",
        "        output = self.predict(x_i)\n",
        "        # Calcule o sigmoid_derivative : [ATIVIDADE 13]\n",
        "\n",
        "      \n",
        "    \n",
        "  def predict(self, X):\n",
        "    # Calcule o output do perceptron: [ATIVIDADE 14]\n",
        "\n",
        "    return output\n",
        "    \n",
        "\n",
        "  def activation(self, signal):\n",
        "    return 1 / (1 + np.exp(-signal)) # Função sigmoid de ativação"
      ],
      "execution_count": null,
      "outputs": []
    },
    {
      "cell_type": "markdown",
      "metadata": {
        "id": "SZMIfp26KeOV"
      },
      "source": [
        "### Atividade 12: Inicialize os Pesos e Bias\n",
        "Como foi feito na atividade 1, inicialize os pesos e bias com valores aleatórios."
      ]
    },
    {
      "cell_type": "markdown",
      "metadata": {
        "id": "keNACqsv6n5u"
      },
      "source": [
        "### Atividade 13: Calcule o Sigmoid_Derivative\n",
        "Baseado no nosso neurônio definido mais acima, atualize os pesos e bias substituindo o `self.alpha` por `self.sigmoid_derivative(output)`."
      ]
    },
    {
      "cell_type": "markdown",
      "metadata": {
        "id": "1QVXoVhHNd9f"
      },
      "source": [
        "### Atividade 14: Calcule o output do perceptron\n",
        "Baseado no nosso neurônio definido mais acima (atividade 3), faça o cálculo do output do perceptron."
      ]
    },
    {
      "cell_type": "code",
      "metadata": {
        "id": "v7Cn1jaS6ov7"
      },
      "source": [
        "P_list = []\n",
        "# Liste, Treine e Rode seu sistema de 10 perceptrons: [ATIVIDADE 15]\n",
        "\n"
      ],
      "execution_count": null,
      "outputs": []
    },
    {
      "cell_type": "markdown",
      "metadata": {
        "id": "yozrKkFOK4oY"
      },
      "source": [
        "### Atividade 15: Liste, Treine e Rode o sistema\n",
        "Como feito anteriormente [8, 9, 10] Inicialize seu sistema, treine, e gere seu vetor de predições."
      ]
    },
    {
      "cell_type": "code",
      "metadata": {
        "colab": {
          "base_uri": "https://localhost:8080/"
        },
        "id": "QcLy-NkZ6xcY",
        "outputId": "897351e5-24ab-46af-cbda-8a1f2e72ea13"
      },
      "source": [
        "y_test = np.array(read_labels(TEST_LABELS_FILENAME, n_test)).reshape(n_test,1)\n",
        "\n",
        "final_predictions = []\n",
        "# Preencha o vetor final_predictions: [ATIVIDADE 16]\n",
        "\n",
        "\n",
        "print(accuracy(final_predictions, y_test))\n"
      ],
      "execution_count": null,
      "outputs": [
        {
          "output_type": "stream",
          "name": "stdout",
          "text": [
            "0.84\n"
          ]
        }
      ]
    },
    {
      "cell_type": "markdown",
      "metadata": {
        "id": "S7goII_SLcmC"
      },
      "source": [
        "### Atividade 16: Preencher o vetor `final_predictions`\n",
        "Para cada exemplo de teste precisamos percorrer o vetor de predições e salvar o `indice` (correspondente a label do neuronio) do maior valor encontrado para cada predição no vetor `final_predictions`."
      ]
    },
    {
      "cell_type": "markdown",
      "metadata": {
        "id": "q9Asb7BP75Rd"
      },
      "source": [
        "# Alguns questionamentos"
      ]
    },
    {
      "cell_type": "markdown",
      "metadata": {
        "id": "ZMXsxEQL785R"
      },
      "source": [
        "**1. Compare o desempenho obtido pelo perceptron 1, com função de ativação degrau e do perceptron 2, com função de ativação sigmoid.**\n",
        "\n",
        "Resposta:"
      ]
    },
    {
      "cell_type": "markdown",
      "metadata": {
        "id": "tjAQHgsTRE9e"
      },
      "source": [
        "**2. Que parâmetros podemos modificar para melhorar a acuracia?**\n",
        "\n",
        "Resposta:"
      ]
    },
    {
      "cell_type": "markdown",
      "metadata": {
        "id": "B0V2YXCg8yKX"
      },
      "source": [
        "# Code Snippets (Caso necessitem de alguma ajuda)"
      ]
    },
    {
      "cell_type": "code",
      "metadata": {
        "colab": {
          "base_uri": "https://localhost:8080/"
        },
        "id": "rxDD0jTu89Pi",
        "outputId": "5bce6e1d-e5df-4c4b-88c1-7e536b3f85cf"
      },
      "source": [
        "# Como fazer Random em python?\n",
        "r = np.random.random() # valor entre 0 e 1\n",
        "print(r)\n",
        "r = 2*np.random.random() - 1 # valor entre -1 e 1\n",
        "print(r)\n",
        "vr = np.random.random((3,)) # Inicializando vetor aleatório com shape (3,1)\n",
        "print(vr)"
      ],
      "execution_count": null,
      "outputs": [
        {
          "output_type": "stream",
          "name": "stdout",
          "text": [
            "0.4834859078247933\n",
            "0.7706340909370561\n",
            "[0.95715776 0.99077338 0.36191808]\n"
          ]
        }
      ]
    },
    {
      "cell_type": "code",
      "metadata": {
        "colab": {
          "base_uri": "https://localhost:8080/"
        },
        "id": "mJmsUMra9gou",
        "outputId": "1f089a52-c085-40c3-86ad-97c84b15300f"
      },
      "source": [
        "# Multiplicação de vetores\n",
        "a = [1, 2, 3]\n",
        "b = [4, 5, 6]\n",
        "c = np.dot(a,b)\n",
        "print(c)"
      ],
      "execution_count": null,
      "outputs": [
        {
          "output_type": "stream",
          "name": "stdout",
          "text": [
            "32\n"
          ]
        }
      ]
    },
    {
      "cell_type": "code",
      "metadata": {
        "colab": {
          "base_uri": "https://localhost:8080/"
        },
        "id": "ZNwYX6_wTJ2a",
        "outputId": "ed74b949-723a-43ef-bb09-2c0e23b0daff"
      },
      "source": [
        "# Formatando arrays com condicionais\n",
        "a = np.array([1, 2, 3, 4, 2, 5, 2, 1])\n",
        "b = np.where( a==2 , 1, 0)\n",
        "print(b)"
      ],
      "execution_count": null,
      "outputs": [
        {
          "output_type": "stream",
          "name": "stdout",
          "text": [
            "[0 1 0 0 1 0 1 0]\n"
          ]
        }
      ]
    },
    {
      "cell_type": "code",
      "metadata": {
        "colab": {
          "base_uri": "https://localhost:8080/"
        },
        "id": "mc3yki2eTxt5",
        "outputId": "23f1df42-5cbc-4a92-e4d7-7721e4db61b7"
      },
      "source": [
        "# Adicionando itens em uma lista\n",
        "a = [1, 2]\n",
        "a.append(3)\n",
        "print(a)"
      ],
      "execution_count": null,
      "outputs": [
        {
          "output_type": "stream",
          "name": "stdout",
          "text": [
            "[1, 2, 3]\n"
          ]
        }
      ]
    }
  ]
}
